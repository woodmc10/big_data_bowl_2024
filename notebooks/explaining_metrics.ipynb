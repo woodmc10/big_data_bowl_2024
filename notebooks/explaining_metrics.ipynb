{
 "cells": [
  {
   "cell_type": "code",
   "execution_count": 1,
   "metadata": {},
   "outputs": [],
   "source": [
    "import pandas as pd\n",
    "import numpy as np\n",
    "import seaborn as sns\n",
    "import matplotlib.pyplot as plt"
   ]
  },
  {
   "cell_type": "code",
   "execution_count": 2,
   "metadata": {},
   "outputs": [],
   "source": [
    "metrics_df = pd.read_csv('../data/processed/run_plays_12-3_0.csv')"
   ]
  },
  {
   "cell_type": "code",
   "execution_count": 18,
   "metadata": {},
   "outputs": [
    {
     "data": {
      "text/plain": [
       "gameId                     2022090800\n",
       "playId                            933\n",
       "frameId                            50\n",
       "x                               71.35\n",
       "y                           24.173333\n",
       "s                                 4.4\n",
       "o                              284.53\n",
       "dir                            249.97\n",
       "x_ball_carrier                  70.52\n",
       "y_ball_carrier              24.703333\n",
       "s_ball_carrier                   3.14\n",
       "o_ball_carrier                  94.84\n",
       "dir_ball_carrier               254.73\n",
       "x_contact                   79.613655\n",
       "y_contact                   27.185959\n",
       "tackler_to_contact_dist      8.795676\n",
       "Name: 19, dtype: object"
      ]
     },
     "execution_count": 18,
     "metadata": {},
     "output_type": "execute_result"
    }
   ],
   "source": [
    "metrics_df.iloc[19][['gameId', 'playId', 'frameId', 'x', 'y', 's', 'o', 'dir',\n",
    "            'x_ball_carrier', 'y_ball_carrier', 's_ball_carrier', \n",
    "            'o_ball_carrier', 'dir_ball_carrier',\n",
    "            'x_contact', 'y_contact', 'tackler_to_contact_dist']]"
   ]
  },
  {
   "cell_type": "code",
   "execution_count": 124,
   "metadata": {},
   "outputs": [],
   "source": [
    "def plot_contact_point(x, y, dir_t, x_bc, y_bc, dir_bc, x_contact, y_contact):\n",
    "    plt.plot([x, x_contact], [y, y_contact], color='red', linestyle='dashed',\n",
    "         linewidth=2, markersize=12)\n",
    "    plt.plot([x_bc, x_contact], [y_bc, y_contact], color='green', linestyle='dashed',\n",
    "         linewidth=2, markersize=12)\n",
    "\n",
    "    plt.plot(x, y, 'ro', markersize=12)\n",
    "    plt.plot(x_bc, y_bc, 'go', markersize=12)\n",
    "    plt.plot(x_contact, y_contact, 'X', color='black', markersize=14)\n",
    "    \n",
    "    r = 0.5\n",
    "    \n",
    "    x_arrow = r*np.cos(np.radians(90 - dir_t))\n",
    "    y_arrow = r*np.sin(np.radians(90 - dir_t))\n",
    "    plt.arrow(x, y, x_arrow, y_arrow, color='red', linewidth=2, head_width=0.2)\n",
    "    \n",
    "    x_arrow = r*np.cos(np.radians(90 - dir_bc))\n",
    "    y_arrow = r*np.sin(np.radians(90 - dir_bc))\n",
    "    plt.arrow(x_bc, y_bc, x_arrow, y_arrow, color='green', linewidth=2, head_width=0.2)\n",
    "    \n",
    "#     x_arrow = r*np.sin(np.radians(dir_bc))\n",
    "#     y_arrow = r*np.cos(np.radians(dir_bc))\n",
    "#     plt.arrow(x_bc, y_bc, x_arrow, y_arrow, color='black', linewidth=2, head_width=0.2)"
   ]
  },
  {
   "cell_type": "code",
   "execution_count": 125,
   "metadata": {},
   "outputs": [
    {
     "data": {
      "image/png": "[encoded data removed]",
      "text/plain": [
       "<Figure size 432x288 with 1 Axes>"
      ]
     },
     "metadata": {
      "needs_background": "light"
     },
     "output_type": "display_data"
    }
   ],
   "source": [
    "# defender\n",
    "x = 71.35\n",
    "y = 24.173333\n",
    "dir_t = 249.97\n",
    "\n",
    "# ball carrier\n",
    "x_bc = 70.52\n",
    "y_bc = 24.703333\n",
    "dir_bc = 254.73\n",
    "\n",
    "# contact point\n",
    "x_contact = 79.613655\n",
    "y_contact = 27.185959\n",
    "plot_contact_point(x, y, dir_t, x_bc, y_bc, dir_bc, x_contact, y_contact)"
   ]
  },
  {
   "cell_type": "code",
   "execution_count": 126,
   "metadata": {},
   "outputs": [],
   "source": [
    "def plot_contact_point_row(row):\n",
    "    x = row['x']\n",
    "    y = row['y']\n",
    "    dir_t = row['dir']\n",
    "    x_bc = row['x_ball_carrier']\n",
    "    y_bc = row['y_ball_carrier']\n",
    "    dir_bc = row['dir_ball_carrier']\n",
    "    x_contact = row['x_contact']\n",
    "    y_contact = row['y_contact']\n",
    "    plot_contact_point(x, y, dir_t, x_bc, y_bc, dir_bc, x_contact, y_contact)"
   ]
  },
  {
   "cell_type": "code",
   "execution_count": 142,
   "metadata": {},
   "outputs": [],
   "source": [
    "from scipy.spatial.distance import euclidean\n",
    "metrics_df['bc_arrow_dist'] = metrics_df.apply(\n",
    "                    lambda row: euclidean((row[f'x_ball_carrier'], row[f'y_ball_carrier']), \n",
    "                                          (row['x_ball_carrier'] + row[f'dir_sin_ball_carrier'], \n",
    "                                           row['y_ball_carrier'] + row[f'dir_cos_ball_carrier']))\n",
    "                    , axis=1)\n",
    "\n",
    "metrics_df['contact_bc_arrow_dist'] = metrics_df.apply(\n",
    "                    lambda row: euclidean((row[f'x_contact'], row[f'y_contact']), \n",
    "                                          (row['x_ball_carrier'] + row[f'dir_sin_ball_carrier'], \n",
    "                                           row['y_ball_carrier'] + row[f'dir_cos_ball_carrier']))\n",
    "                    , axis=1)\n",
    "\n",
    "metrics_df['behind_ball_carrier'] = ((metrics_df['bc_arrow_dist'] < metrics_df['contact_bc_arrow_dist']) &\n",
    "                                     (metrics_df['ball_carrier_to_contact_dist'] < metrics_df['contact_bc_arrow_dist']))\n",
    "\n",
    "metrics_df['tackler_arrow_dist'] = metrics_df.apply(\n",
    "                    lambda row: euclidean((row[f'x'], row[f'y']), \n",
    "                                          (row['x'] + row[f'dir_sin'], row['y'] + row[f'dir_cos']))\n",
    "                    , axis=1)\n",
    "\n",
    "metrics_df['contact_t_arrow_dist'] = metrics_df.apply(\n",
    "                    lambda row: euclidean((row[f'x_contact'], row[f'y_contact']), \n",
    "                                          (row['x'] + row[f'dir_sin'], row['y'] + row[f'dir_cos']))\n",
    "                    , axis=1)\n",
    "    \n",
    "metrics_df['behind_tackler'] = ((metrics_df['tackler_arrow_dist'] < metrics_df['contact_t_arrow_dist']) &\n",
    "                                     (metrics_df['tackler_to_contact_dist'] < metrics_df['contact_t_arrow_dist']))"
   ]
  },
  {
   "cell_type": "code",
   "execution_count": 156,
   "metadata": {},
   "outputs": [
    {
     "name": "stdout",
     "output_type": "stream",
     "text": [
      "None\n",
      "behind_ball_carrier    False\n",
      "behind_tackler          True\n",
      "Name: 10, dtype: object\n"
     ]
    },
    {
     "data": {
      "image/png": "[encoded data removed]",
      "text/plain": [
       "<Figure size 432x288 with 1 Axes>"
      ]
     },
     "metadata": {
      "needs_background": "light"
     },
     "output_type": "display_data"
    }
   ],
   "source": [
    "row = 10\n",
    "print(metrics_df.iloc[row]['event'])\n",
    "plot_contact_point_row(metrics_df.iloc[row])\n",
    "print(metrics_df.iloc[row][['behind_ball_carrier', 'behind_tackler']])\n",
    "# print(metrics_df.iloc[row][['bc_arrow_dist', 'contact_bc_arrow_dist', 'ball_carrier_to_contact_dist',\n",
    "#                             'tackler_arrow_dist', 'contact_t_arrow_dist', 'tackler_to_contact_dist']])"
   ]
  },
  {
   "cell_type": "code",
   "execution_count": 157,
   "metadata": {},
   "outputs": [],
   "source": [
    "metrics_df['behind_player'] = metrics_df['behind_ball_carrier'] | metrics_df['behind_tackler']"
   ]
  },
  {
   "cell_type": "code",
   "execution_count": 158,
   "metadata": {},
   "outputs": [
    {
     "data": {
      "text/plain": [
       "event           \n",
       "None                3032\n",
       "assist               817\n",
       "tackle               780\n",
       "pff_missedTackle     303\n",
       "forcedFumble           3\n",
       "dtype: int64"
      ]
     },
     "execution_count": 158,
     "metadata": {},
     "output_type": "execute_result"
    }
   ],
   "source": [
    "metrics_df[metrics_df['behind_player']][['event']].value_counts()"
   ]
  },
  {
   "cell_type": "code",
   "execution_count": 160,
   "metadata": {},
   "outputs": [
    {
     "data": {
      "text/plain": [
       "event           \n",
       "None                4853\n",
       "tackle              3335\n",
       "assist              2934\n",
       "pff_missedTackle     530\n",
       "dtype: int64"
      ]
     },
     "execution_count": 160,
     "metadata": {},
     "output_type": "execute_result"
    }
   ],
   "source": [
    "metrics_df[~metrics_df['behind_player']][['event']].value_counts()"
   ]
  },
  {
   "cell_type": "code",
   "execution_count": 161,
   "metadata": {},
   "outputs": [
    {
     "data": {
      "text/plain": [
       "event           \n",
       "None                1875\n",
       "assist               478\n",
       "tackle               371\n",
       "pff_missedTackle     133\n",
       "forcedFumble           3\n",
       "dtype: int64"
      ]
     },
     "execution_count": 161,
     "metadata": {},
     "output_type": "execute_result"
    }
   ],
   "source": [
    "metrics_df[metrics_df['behind_tackler']][['event']].value_counts()"
   ]
  },
  {
   "cell_type": "code",
   "execution_count": 162,
   "metadata": {},
   "outputs": [
    {
     "data": {
      "text/plain": [
       "event           \n",
       "None                1686\n",
       "tackle               483\n",
       "assist               474\n",
       "pff_missedTackle     183\n",
       "forcedFumble           1\n",
       "dtype: int64"
      ]
     },
     "execution_count": 162,
     "metadata": {},
     "output_type": "execute_result"
    }
   ],
   "source": [
    "metrics_df[metrics_df['behind_ball_carrier']][['event']].value_counts()"
   ]
  },
  {
   "cell_type": "code",
   "execution_count": null,
   "metadata": {},
   "outputs": [],
   "source": []
  }
 ],
 "metadata": {
  "kernelspec": {
   "display_name": "Python 3",
   "language": "python",
   "name": "python3"
  },
  "language_info": {
   "codemirror_mode": {
    "name": "ipython",
    "version": 3
   },
   "file_extension": ".py",
   "mimetype": "text/x-python",
   "name": "python",
   "nbconvert_exporter": "python",
   "pygments_lexer": "ipython3",
   "version": "3.7.6"
  }
 },
 "nbformat": 4,
 "nbformat_minor": 4
}
