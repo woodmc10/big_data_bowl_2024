{
 "cells": [
  {
   "cell_type": "markdown",
   "id": "5fbc7777",
   "metadata": {},
   "source": [
    "# Momentum and Missed Tackles"
   ]
  },
  {
   "cell_type": "markdown",
   "id": "00a1baee",
   "metadata": {},
   "source": [
    "## Introduction\n",
    "\n",
    "In contact sports like football, momentum is a critical component, and tackling is an excellent example of a sports collision. The [Law of Momentum Conservation](https://www.khanacademy.org/science/hs-physics/x215e29cb31244fa1:forces-and-motion/x215e29cb31244fa1:conservation-of-momentum/a/what-is-conservation-of-momentum)  governs collisions in physics. It states that momentum in a collision cannot be created or lost but must remain the same before and after the event, such as a tackle. Although football is a complex sport in the real world and cannot be fully explained by this single law, the concept of momentum conservation provides an interesting platform to study football tackles. This investigation focuses on deriving actionable insights for both offensive and defensive strategies by analyzing the momentum of the ball carrier and the defender, with the goal of enhancing performance outcomes."
   ]
  },
  {
   "cell_type": "markdown",
   "id": "fed5d662",
   "metadata": {},
   "source": [
    "**What is Momentum?**\n",
    "\n",
    "> $ \\text{momentum} = \\text{mass} * \\text{velocity}$\n",
    "> >\n",
    "> $ \\text{velocity} = \\text{speed in a specified direction}$\n",
    "\n",
    "Momentum is a concept in physics that describes the motion of an object. It is the product of an object's mass and its velocity, which includes information about the direction. In simple terms, momentum in a tackle scenario can be thought of as the \"driving force\" that both players have due to their mass and speed. The one with greater momentum at the time of collision is likely to have a dominant impact in the tackle."
   ]
  },
  {
   "cell_type": "markdown",
   "id": "64ae659b",
   "metadata": {},
   "source": [
    "## Data Collection Method\n",
    "\n",
    "The [available tracking data](https://www.kaggle.com/competitions/nfl-big-data-bowl-2024/data) was analyzed to identify the frames of running plays where defenders were positioned approximately 2 yards away from the ball carrier. The distance of 2 yards was chosen to ensure defenders were more than an arms distance away, meaning contact was imminent but had not occured. A small cushion was allowed to account for the frame sampling rate, so defenders between 1.8 and 2.2 yards away from the ball carrier were included in the data set. The tackles group included assists, but forced fumbles were excluded from the analysis because there is no way to know if the defender would have completed the tackle after forcing the ball out. The dataset was further refined by projecting the point of contact between the defender and the ball carrier. If this point was located behind either player or outside the field of play, the data point was removed. Finally, the number of tackles was down sampled to match the number in the missed tackles group."
   ]
  },
  {
   "cell_type": "markdown",
   "id": "a5928c61",
   "metadata": {},
   "source": [
    "## Raw Momentum\n",
    "\n",
    "To investigate the impact of tackles, we can analyze the momentum of the ball carriers and defenders separately. In the imagined perfect collision the object with more momentum will continue moving. Considering the ball carrier as one of the objects in the collisions, missed tackles occur when the momentum of the ball carrier is not stopped by the defender. By using a histogram of the ball carrier momentum, we can see that missed tackles occur more frequently when the ball carrier has more momentum. In football, this aligns with intuition, as a ball carrier with more momentum is more likely to break through attempted tackles."
   ]
  },
  {
   "cell_type": "markdown",
   "id": "b33c4626",
   "metadata": {},
   "source": [
    "<figure>\n",
    "    <img src=\"ball_carrier_momentum_hist.png\">\n",
    "    <figcaption>Fig. 1: Ball Carrier Momentum Histogram</figcaption>\n",
    "</figure>"
   ]
  },
  {
   "cell_type": "markdown",
   "id": "139e5861",
   "metadata": {},
   "source": [
    "The histogram depicting the defender's momentum shows a consistent pattern as the ball carrier's momentum plot. Higher momentum leads to a greater likelihood of missed tackles. This trend may not be helpful when tackles are considered to be a perfect system, but it aligns with football intuition. An increase in momentum often results in a decrease in control and precision. As a result, defenders may be unable to execute a perfect hit or wrap the ball carrier to bring them down, or they could overcommit to an angle of persuit and miss the ball carrier entirely."
   ]
  },
  {
   "cell_type": "markdown",
   "id": "07ae2dfc",
   "metadata": {},
   "source": [
    "<figure>\n",
    "    <img src='defender_momentum_hist.png'>\n",
    "    <figcaption>Fig. 2: Defender Momentum Histogram</figcaption>\n",
    "</figure>"
   ]
  },
  {
   "cell_type": "markdown",
   "id": "45de947a",
   "metadata": {},
   "source": [
    "**Raw Momentum Summary** <br>\n",
    "🏈 Ball Carriers: keep the momentum high, break through tackles <br>\n",
    "🏈 Defenders: control the momentum, make solid contact <br>"
   ]
  },
  {
   "cell_type": "markdown",
   "id": "0e148873",
   "metadata": {},
   "source": [
    "## Momentum in the Plane of the Field\n",
    "Momentum is an important aspect of many sports. It is a vector measurement that can be expressed in terms of magnitude and direction. To determine how much momentum is moving towards the scoring endzone versus the sidelines, the components of the momentum are calculated. Positive endzone momentum moves towards the scoring endzone and negative endzone momentum moves away from it.\n",
    "\n",
    "**Endzone Momentum**\n",
    "\n",
    "When examining the tackling technique, plotting the endzone momentum of the ball carrier against the endzone momentum of the defender provides more detailed information. The plots are separated to distinguish defenders with momentum away from the scoring endzone from defenders with momentum towards the scoring endzone. In both plots the ball carrier's momentum is moving toward the scoring endzone.\n",
    "\n",
    "In the plot with the defender's momentum moving away from the scoring endzone, the trendlines for both successful and missed tackles show a negative correlation. This suggests that defenders more often have higher momentums when they are moving downhill to attempt tackles against ball carriers who have not yet built up speed in their run. The trendlines are not parallel, but instead intersect at approximately 600 yards per second of defender momentum. The crossing trendlines indicate that the significance of ball carrier and defender momentum varies in their contribution to successful and missed tackles depending on which one is higher. Since it is rare for the ball carrier to have a large momentum when the defender has a large momentum moving away from the endzone, these situatations more commonly lead to missed tackles. This could be due to ball carriers making changes in direction or acceleration because they have not yet built up momentum.\n",
    "\n",
    "When a defender's momentum is toward the scoring endzone, the slight positive correlation observed between the defender and ball carrier momentum is even more pronounced. This is reasonable because defenders who trail the ball carrier must match or exceed the speed of the ball carrier in order to catch up with them. The trendlines still demonstrate that higher ball carrier momentum results in more missed tackles, as is seen with the non-directional momentum measures."
   ]
  },
  {
   "cell_type": "markdown",
   "id": "548bf702",
   "metadata": {},
   "source": [
    "<figure>\n",
    "    <img src='endzone_momentum_scatter.png'>\n",
    "    <figcaption>Fig. 3: Endzone Momentum Scatter Plot</figcaption>\n",
    "</figure>"
   ]
  },
  {
   "cell_type": "markdown",
   "id": "1743ddf1",
   "metadata": {},
   "source": [
    "**Sideline Momentum**\n",
    "\n",
    "The interesting relationship between the defender and ball carrier endzone momentum is not present in the sideline momentum. When the players' sideline momentums are plotted a strong positive correlation is present. The ball carrier momentum toward either the left or the right sideline requires the defender to drive their momentum in the same direction in order to make contact. One interesting note from this plot, marginal distributions show heavier tails in the missed tackles indicating that missed tackles happen at the extremes of sideline momentum. "
   ]
  },
  {
   "cell_type": "markdown",
   "id": "a7673343",
   "metadata": {},
   "source": [
    "<figure>\n",
    "    <img src='sideline_momentum_scatter.png'>\n",
    "    <figcaption>Fig. 4: Sideline Momentum Scatter Plot</figcaption>\n",
    "</figure>"
   ]
  },
  {
   "cell_type": "markdown",
   "id": "a77eaba6",
   "metadata": {},
   "source": [
    "**Plane of the Field Momentum Summary**<br>\n",
    "🏈 Ball Carriers: when your momentum is low be shifty, when your momentum is high keep going<br>\n",
    "🏈 Defenders: don't be in the extremes where missed tackles are more common, stay in control<br>"
   ]
  },
  {
   "cell_type": "markdown",
   "id": "080a04cd",
   "metadata": {},
   "source": [
    "## Momentum in the Plane of the Ball Carrier\n",
    "\n",
    "The plane of the field is easy to picture at any moment because the orientation does not change as the play continues. This is not the case with the plane of the ball carrier because the movement of the player establishes the plane. Imagine a square on the field centered on the ball carrier. If this square remained in the plane of the field, the markings would always stay vertical and horizontal in this square as the ball carrier runs across different parts of the field. But if this square was anchored to the frame of the ball carrier, the markings would change orientation based on the direction the ball carrier movement. This could be disorienting for viewers, but it can provide valuable information about the defender's movements in relation to the ball carrier."
   ]
  },
  {
   "cell_type": "markdown",
   "id": "7b9b5b6b",
   "metadata": {},
   "source": [
    "**GIF**"
   ]
  },
  {
   "cell_type": "markdown",
   "id": "8e970931",
   "metadata": {},
   "source": [
    "<figure>\n",
    "    <img src=\"../src/visualization/fig.gif\" width=\"1000\" align=\"center\">\n",
    "    <figcaption>Fig 5: Plane of Ball Carrier GIF</figcaption>\n",
    "</figure>"
   ]
  },
  {
   "cell_type": "markdown",
   "id": "94548622",
   "metadata": {},
   "source": [
    "**Momentum Perpendicular to the Ball Carrier**\n",
    "\n",
    "When adjusting the plane of momentum, it becomes easier to analyze the details of momentum directed to either side of the ball carrier. This perpendicular momentum is demonstrated in a violin plot that shows an increase in missed tackles when momentum is directed to the left of the ball carrier. It is likely that this is a side effect of the small sample size of missed tackles.\n",
    "\n",
    "There is a difference in width and height between the distribution which indicates that fewer tackles are missed when less of the defender's momentum is directed perpendicular to the ball carrier. Defenders attacking the ball carrier with most of their momentum traveling perpendicularly, which happens when they are closer to a right angle with the ball carrier, are more likely to miss tackles. Additionally, the longer tails in the missed tackles distribution suggest that there are more missed tackles when more of the defender's momentum is directed to the left or right of the ball carrier. "
   ]
  },
  {
   "cell_type": "markdown",
   "id": "97809f28",
   "metadata": {},
   "source": [
    "<figure>\n",
    "    <img src='perpendicular_momentum_violin.png'>\n",
    "    <figcaption>Fig 6: Perpendicular Momentum Violin Plot</figcaption>\n",
    "</figure>"
   ]
  },
  {
   "cell_type": "markdown",
   "id": "3bcdf828",
   "metadata": {},
   "source": [
    "**Momentum Parallel to the Direction of Ball Carrier Movement**\n",
    "\n",
    "When assessing the defender's momentum in the plane of the ball carrier, the direction of the ball carrier's momentum is used to find the angle of intersection and determine how much of the defender's momentum is moving in the same direction. Decomposing the momentum into the plane of the ball carrier shows that only a handful of missed tackles occur when the ball carrier's momentum is less than 500 yards/sec, no matter whether the defender's momentum is moving in an opposing direction to the ball carrier or in a consistent direction."
   ]
  },
  {
   "cell_type": "markdown",
   "id": "d6c9119d",
   "metadata": {},
   "source": [
    "<figure>\n",
    "    <img src='parallel_momentum_scatter.png'>\n",
    "    <figcaption>Fig. 7: Parallel Momentum Scatter Plot</figcaption>\n",
    "</figure>"
   ]
  },
  {
   "cell_type": "markdown",
   "id": "e277df1c",
   "metadata": {},
   "source": [
    "**Plane of the Ball Carrier Momentum Summary**<br>\n",
    "🏈 Ball Carrier: make the defenders take a sharp angle<br>\n",
    "🏈 Defender: if you must tackle a ball carrier at a sharp angle, remember \"[slow is smooth, smooth is fast](https://gm3.medium.com/slow-is-smooth-smooth-is-fast-1c33b37a5960),\" stay in control<br>"
   ]
  },
  {
   "cell_type": "markdown",
   "id": "1b444b62",
   "metadata": {},
   "source": [
    "## Player Analysis\n",
    "\n",
    "The importance of momentum in tackle analysis is clearly visible starting with the ball carrier's raw momentum plotted in Fig 1 through the parallel momentum impacts seen in Fig 7. Whether it is the raw magnitude of momentum, momentum in relation to the field, or momentum in relation to the ball carrier, it is a impactful factor. Evaluating momentum in the plane of the ball carrier, in particular, can help visualize the direction of the defender in relation to the ball carrier without having to plot them separately.\n",
    "\n",
    "Two plots have been provided to illustrate the directional momentum of outside linebacker Preston Smith. The left plot shows Smith's momentum in relation to the field, with the endzone direction set by the horizontal line. The blue bars represent missed tackles and are spread around all angles, while the orange bars represent successful tackles and are somewhat clustered in the lower right but generally present around all angles.\n",
    "\n",
    "The right plot provides a clearer picture by assessing Smith's momentum in relation to the ball carrier. The horizontal line sets the direction of the ball carrier, with the ball carrier's momentum moving to the right. In this plane, it is easier to see that Smith is more likely to miss tackles when his momentum is moving in a very similar direction to that of the ball carrier. When Smith can attack from less acute angles, he is able to complete more of his tackles. With this information, a coach and Smith can investigate his position, movement, and attack angles in these plays and identify opportunities for improvement in Smith's attempted tackles."
   ]
  },
  {
   "cell_type": "markdown",
   "id": "065a6573",
   "metadata": {},
   "source": [
    "<figure>\n",
    "    <img src='plane_comparison.png' align='left'>\n",
    "    <figcaption>Fig. 8: Preston Smith Tackle Plane Comparison</figcaption>\n",
    "</figure>"
   ]
  },
  {
   "cell_type": "markdown",
   "id": "31908e3a",
   "metadata": {},
   "source": [
    "## Future Work\n",
    "\n",
    "This work has provided metrics that will allow coaches and players to anlayze performance and find small improvements for making and breaking tackles. In the future I would like to explore the impact on ball carriers' changes in momentum in the frames following this selected frame. My hypothesis is that ball carriers with higher momentum would benefit from continuing in the current direction and maintaining direction, while ball carriers with lower momentum would benefit from shifting and changing directions."
   ]
  },
  {
   "cell_type": "markdown",
   "id": "b2ee8fab",
   "metadata": {},
   "source": [
    "## Acknowledgements\n",
    "\n",
    "**Mentor:** I would like to thank Zach Stuart for all of his thoughtful comments and questions through the entire project\n",
    "\n",
    "**Frame Visuals:** The code to visualize frames for the plane of ball carrier explanation GIF was adapted from [Morgan Martin's NFL Data Bowl 2023: Initial Pass Set Kick Speed](https://www.kaggle.com/code/morganmartin23/nfl-data-bowl-2023-initial-pass-set-kick-speed)\n",
    "\n",
    "**Author:** Martha Wood\n",
    "\n",
    "**Code:** [Git](https://github.com/woodmc10/big_data_bowl_2024/tree/main)"
   ]
  }
 ],
 "metadata": {
  "kernelspec": {
   "display_name": "Python 3",
   "language": "python",
   "name": "python3"
  },
  "language_info": {
   "codemirror_mode": {
    "name": "ipython",
    "version": 3
   },
   "file_extension": ".py",
   "mimetype": "text/x-python",
   "name": "python",
   "nbconvert_exporter": "python",
   "pygments_lexer": "ipython3",
   "version": "3.7.6"
  }
 },
 "nbformat": 4,
 "nbformat_minor": 5
}
